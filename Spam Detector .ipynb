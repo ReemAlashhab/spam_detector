{
 "cells": [
  {
   "cell_type": "markdown",
   "metadata": {
    "collapsed": false
   },
   "source": [
    "### Naive Bayes Algorithm, Support Vector Machine Algrothim, and Random Forest Algrothim:\n",
    "### Building a Spam Detector"
   ]
  },
  {
   "cell_type": "markdown",
   "metadata": {
    "collapsed": false
   },
   "source": [
    "#### What is Naive Bayes Algorithm ?"
   ]
  },
  {
   "cell_type": "markdown",
   "metadata": {
    "collapsed": false
   },
   "source": [
    "Naive Bayes are probabilistic models that apply \"Bayes Theorem\" to make classification on a set of data assuming that there is strong independence between features. This independency means that the existence of a certain feature is unrelated to the existence of other features. For example, grape has a purple color, round shape and sweet taste. Naive Bayes would consider each feature of the grape to contribute indepently to the probability of classfying the fruit to grape regardless of the correlations between these three features. Due to the ease of implementation, Naive Bayes provides very good performing models in practice."
   ]
  },
  {
   "cell_type": "markdown",
   "metadata": {
    "collapsed": false
   },
   "source": [
    "#### How Naive Bayes Works ?"
   ]
  },
  {
   "cell_type": "code",
   "execution_count": 3,
   "metadata": {
    "collapsed": false
   },
   "outputs": [
   ],
   "source": [
    "# importing needed libraries to display the Naive Bayes rule\n",
    "import requests \n",
    "from PIL import Image\n",
    "from io import BytesIO\n",
    "%matplotlib inline\n",
    "response = requests.get(\"https://miro.medium.com/max/998/1*Lt8E08oxEnnRegLbNBzNAg.png\")\n",
    "image = Image.open(BytesIO(response.content))"
   ]
  },
  {
   "cell_type": "code",
   "execution_count": 4,
   "metadata": {
    "collapsed": false
   },
   "outputs": [
    {
     "data": {
      "image/png": "[encoded data removed]",
      "text/plain": [
       "<PIL.PngImagePlugin.PngImageFile image mode=RGB size=998x221 at 0x7F694405A0F0>"
      ]
     },
     "execution_count": 4,
     "metadata": {
     },
     "output_type": "execute_result"
    }
   ],
   "source": [
    "#displaying the Naive Bayes rule\n",
    "image"
   ]
  },
  {
   "cell_type": "markdown",
   "metadata": {
    "collapsed": false
   },
   "source": [
    "To find the posterior probability of a certain event \"A\", it uses the probabilities of prior events. Refer to the above formela for the mathmatical representation."
   ]
  },
  {
   "cell_type": "markdown",
   "metadata": {
    "collapsed": false
   },
   "source": [
    "#### What are the advantages and disadvantages of Naive Bayes ?"
   ]
  },
  {
   "cell_type": "markdown",
   "metadata": {
    "collapsed": false
   },
   "source": [
    "Advantages:\n",
    "\n",
    "1. When assumption of independent predictors holds true, a Naive Bayes classifier performs better as compared to other models.\n",
    "\n",
    "2. Naive Bayes requires a small amount of training data to estimate the test data. So, the training period is less.\n",
    "\n",
    "3. Naive Bayes is also easy to implement.\n",
    "\n",
    "4. The decoupling of the class conditional feature distributions means that each distribution can be independently estimated as a one dimensional distribution. This helps with problems derived from the curse of dimensionality and improve the performance."
   ]
  },
  {
   "cell_type": "markdown",
   "metadata": {
    "collapsed": false
   },
   "source": [
    "Disadvantages:\n",
    "\n",
    "1. Main imitation of Naive Bayes is the assumption of independent predictors. Naive Bayes implicitly assumes that all the attributes are mutually independent. In real life, it is almost impossible that we get a set of predictors which are completely independent.\n",
    "\n",
    "2. If categorical variable has a category in test data set, which was not observed in training data set, then model will assign a 0 (zero) probability and will be unable to make a prediction. This is often known as Zero Frequency. To solve this, we can use the smoothing technique. One of the simplest smoothing techniques is called Laplace estimation.\n",
    "\n",
    "3. Although they are pretty good classifiers, naive bayes are know to be poor estimators. So the probability that outputs from it shouldn’t be taken very seriously.\n"
   ]
  },
  {
   "cell_type": "markdown",
   "metadata": {
    "collapsed": false
   },
   "source": [
    "#### What is Support Vector Machine Algorithm (SVM) ?\n",
    "\n",
    "It's an algrothim that is used in supervised learning , meaning training data is labled, to find the optimal seprating line between different classes of data. The objective of SVM is to find the plane with the maximum margin or distance between data points of different classes to provide more space for future data points to be classfied correctly. "
   ]
  },
  {
   "cell_type": "markdown",
   "metadata": {
    "collapsed": false
   },
   "source": [
    "#### What are the advantages and disadvantages of SVM ?\n",
    "\n",
    "Advantages:\n",
    "\n",
    "1. When there is a clear margin of separation between different classes, SVM works relatively well.\n",
    "2. In high dimensional spaces, SVM works more effectively.\n",
    "3. When the number of dimensions is greater than the number of samples, SVM is more effective.\n",
    "4. SVM is memory efficient algorithim. "
   ]
  },
  {
   "cell_type": "markdown",
   "metadata": {
    "collapsed": false
   },
   "source": [
    "Disadvantages:\n",
    "\n",
    "1. For large number of data points, SVM is not suitable.\n",
    "2. When the data set has more noise ( ex: target classes are overlapping), SVM will not perform very well.\n",
    "3. When the number of features for each data point exceeds the number of training data points, the SVM will not perform well."
   ]
  },
  {
   "cell_type": "markdown",
   "metadata": {
    "collapsed": false
   },
   "source": [
    "#### Introduction : What is Random Forest Algorithm ?"
   ]
  },
  {
   "cell_type": "markdown",
   "metadata": {
    "collapsed": false
   },
   "source": [
    "The Random Forest Model is based on the idea of Decision Trees; it combines a group of decision trees that each is trained using different set of features to split the data set. At the final step, the final predictions are then decided by taking the average predictions of all decision trees. \n"
   ]
  },
  {
   "cell_type": "markdown",
   "metadata": {
    "collapsed": false
   },
   "source": [
    "#### What are the advantages and disadvantages of Random Forest ?\n",
    "\n",
    "Advantages:\n",
    "\n",
    "1. Using bagging algorithm and ensembling learning teqchnique, Random Forest produces as many trees from the data set and then combines the final output based on all these trees. Thus, it reduces the problems of overfitting and variance in a way that improves the accuracy of its results.\n",
    "2. Classification and regression problems can be solved using Random Forest Algorthim. \n",
    "3. Categorical and continuous variables works well with Random Forest.\n",
    "4. Using Random Forest, missing values can be handled automatically."
   ]
  },
  {
   "cell_type": "markdown",
   "metadata": {
    "collapsed": false
   },
   "source": [
    "Disadvantages:\n",
    "\n",
    "1. Random Forest can be a complex algorthim as it creates many trees,compared to Decision Tree, and combines their outputs in its final result. Using Sklearn Library, it creates 100 trees by defult. \n",
    "2. Random Forest can consume a long time in training data, when it's compared to Decision Trees, because it generates many trees and makes the final decision based on average of all the trees."
   ]
  },
  {
   "cell_type": "markdown",
   "metadata": {
    "collapsed": false
   },
   "source": [
    "### Spam Detector "
   ]
  },
  {
   "cell_type": "markdown",
   "metadata": {
    "collapsed": false
   },
   "source": [
    "Spam detection is one of the vital features that is implied in any email service provider. In this project, I will use the Naive Bayes and Support Vector Machine to train provided data to classfiy emails with or without spam and compare their performance. "
   ]
  },
  {
   "cell_type": "markdown",
   "metadata": {
    "collapsed": false
   },
   "source": [
    "### Project Overview"
   ]
  },
  {
   "cell_type": "markdown",
   "metadata": {
    "collapsed": false
   },
   "source": [
    "The project steps will be as the following : "
   ]
  },
  {
   "cell_type": "markdown",
   "metadata": {
    "collapsed": false
   },
   "source": [
    "1. Exploring the dataset.\n",
    "2. Introduction to Bag of Words (BoW) and Sci-kit implementation.\n",
    "3. Splitting Dataset in training and testing set.\n",
    "4. Applying BoW to process the dataset.\n",
    "5. Naive Bayes Implementation with sci-kit learn.\n",
    "6. SVM Implementation with sci-kit learn.\n",
    "7. Random Forest Implementation with sci-kit learn.\n",
    "8. Models evaluation.\n",
    "9. Conclusion."
   ]
  },
  {
   "cell_type": "markdown",
   "metadata": {
    "collapsed": false
   },
   "source": [
    "##### Exploring the Data Set"
   ]
  },
  {
   "cell_type": "markdown",
   "metadata": {
    "collapsed": false
   },
   "source": [
    "The data set that will be used for this project is imported from Kaggle Website(online platform for data scientists and machine learners).\n",
    "\n",
    "The data set link : https://www.kaggle.com/balakishan77/spam-or-ham-email-classification"
   ]
  },
  {
   "cell_type": "code",
   "execution_count": 1,
   "metadata": {
    "collapsed": false
   },
   "outputs": [
   ],
   "source": [
    "# pandas library is imported (pandas package is used for exploring and cleaning data sets)\n",
    "import pandas as pd\n",
    "# openning the data set file\n",
    "df = pd.read_csv(\"spamham.csv\")"
   ]
  },
  {
   "cell_type": "code",
   "execution_count": 2,
   "metadata": {
    "collapsed": false,
    "scrolled": true
   },
   "outputs": [
    {
     "data": {
      "text/html": [
       "<div>\n",
       "<style scoped>\n",
       "    .dataframe tbody tr th:only-of-type {\n",
       "        vertical-align: middle;\n",
       "    }\n",
       "\n",
       "    .dataframe tbody tr th {\n",
       "        vertical-align: top;\n",
       "    }\n",
       "\n",
       "    .dataframe thead th {\n",
       "        text-align: right;\n",
       "    }\n",
       "</style>\n",
       "<table border=\"1\" class=\"dataframe\">\n",
       "  <thead>\n",
       "    <tr style=\"text-align: right;\">\n",
       "      <th></th>\n",
       "      <th>text</th>\n",
       "      <th>spam</th>\n",
       "    </tr>\n",
       "  </thead>\n",
       "  <tbody>\n",
       "    <tr>\n",
       "      <th>0</th>\n",
       "      <td>Subject: naturally irresistible your corporate...</td>\n",
       "      <td>1</td>\n",
       "    </tr>\n",
       "    <tr>\n",
       "      <th>1</th>\n",
       "      <td>Subject: the stock trading gunslinger  fanny i...</td>\n",
       "      <td>1</td>\n",
       "    </tr>\n",
       "    <tr>\n",
       "      <th>2</th>\n",
       "      <td>Subject: unbelievable new homes made easy  im ...</td>\n",
       "      <td>1</td>\n",
       "    </tr>\n",
       "    <tr>\n",
       "      <th>3</th>\n",
       "      <td>Subject: 4 color printing special  request add...</td>\n",
       "      <td>1</td>\n",
       "    </tr>\n",
       "    <tr>\n",
       "      <th>4</th>\n",
       "      <td>Subject: do not have money , get software cds ...</td>\n",
       "      <td>1</td>\n",
       "    </tr>\n",
       "  </tbody>\n",
       "</table>\n",
       "</div>"
      ],
      "text/plain": [
       "                                                text  spam\n",
       "0  Subject: naturally irresistible your corporate...     1\n",
       "1  Subject: the stock trading gunslinger  fanny i...     1\n",
       "2  Subject: unbelievable new homes made easy  im ...     1\n",
       "3  Subject: 4 color printing special  request add...     1\n",
       "4  Subject: do not have money , get software cds ...     1"
      ]
     },
     "execution_count": 2,
     "metadata": {
     },
     "output_type": "execute_result"
    }
   ],
   "source": [
    "# displaying the first five rows \n",
    "df.head()"
   ]
  },
  {
   "cell_type": "markdown",
   "metadata": {
    "collapsed": false
   },
   "source": [
    "As show in the previous table, the column 'text' is for the emails text, and the 'spam' column has values of 1 and 0 to classify emails. 1 for spam emails and 0 for non spam emails.\n",
    "\n",
    "It can be also noticed that the word 'Subject:' is repeated in each email text. They need to be removed to avoid altering the analysis results."
   ]
  },
  {
   "cell_type": "code",
   "execution_count": 3,
   "metadata": {
    "collapsed": false
   },
   "outputs": [
   ],
   "source": [
    "# using the lampda function to loop in all emails and remove 'Subject:'\n",
    "df['text'] = df['text'].apply(lambda x:x.replace('Subject:',''))\n"
   ]
  },
  {
   "cell_type": "code",
   "execution_count": 4,
   "metadata": {
    "collapsed": false,
    "scrolled": true
   },
   "outputs": [
    {
     "data": {
      "text/html": [
       "<div>\n",
       "<style scoped>\n",
       "    .dataframe tbody tr th:only-of-type {\n",
       "        vertical-align: middle;\n",
       "    }\n",
       "\n",
       "    .dataframe tbody tr th {\n",
       "        vertical-align: top;\n",
       "    }\n",
       "\n",
       "    .dataframe thead th {\n",
       "        text-align: right;\n",
       "    }\n",
       "</style>\n",
       "<table border=\"1\" class=\"dataframe\">\n",
       "  <thead>\n",
       "    <tr style=\"text-align: right;\">\n",
       "      <th></th>\n",
       "      <th>text</th>\n",
       "      <th>spam</th>\n",
       "    </tr>\n",
       "  </thead>\n",
       "  <tbody>\n",
       "    <tr>\n",
       "      <th>0</th>\n",
       "      <td>naturally irresistible your corporate identit...</td>\n",
       "      <td>1</td>\n",
       "    </tr>\n",
       "    <tr>\n",
       "      <th>1</th>\n",
       "      <td>the stock trading gunslinger  fanny is merril...</td>\n",
       "      <td>1</td>\n",
       "    </tr>\n",
       "    <tr>\n",
       "      <th>2</th>\n",
       "      <td>unbelievable new homes made easy  im wanting ...</td>\n",
       "      <td>1</td>\n",
       "    </tr>\n",
       "    <tr>\n",
       "      <th>3</th>\n",
       "      <td>4 color printing special  request additional ...</td>\n",
       "      <td>1</td>\n",
       "    </tr>\n",
       "    <tr>\n",
       "      <th>4</th>\n",
       "      <td>do not have money , get software cds from her...</td>\n",
       "      <td>1</td>\n",
       "    </tr>\n",
       "  </tbody>\n",
       "</table>\n",
       "</div>"
      ],
      "text/plain": [
       "                                                text  spam\n",
       "0   naturally irresistible your corporate identit...     1\n",
       "1   the stock trading gunslinger  fanny is merril...     1\n",
       "2   unbelievable new homes made easy  im wanting ...     1\n",
       "3   4 color printing special  request additional ...     1\n",
       "4   do not have money , get software cds from her...     1"
      ]
     },
     "execution_count": 4,
     "metadata": {
     },
     "output_type": "execute_result"
    }
   ],
   "source": [
    "# displaying the data set to make sure the email fix worked well \n",
    "df.head()"
   ]
  },
  {
   "cell_type": "markdown",
   "metadata": {
    "collapsed": false
   },
   "source": [
    "##### Introduction to Bag of Words (BoW) and Sci-kit implementation"
   ]
  },
  {
   "cell_type": "markdown",
   "metadata": {
    "collapsed": false
   },
   "source": [
    "The project data set has 5739 rows. The model used will only accept numerical data as input,so I should process the emails text. Thus, the Bag of Word is an essential algrothim in this project. This algrothim takes the text and count the frequency of the words in the given text. BoW treats each word indepently and ignores the order of the word. I can convert the emails text into a matrix, with each email as a row and each word(token) is a column, and the corresponding (row,column) values beign the frequency of occurrence of each word or token in that emails data set. "
   ]
  },
  {
   "cell_type": "markdown",
   "metadata": {
    "collapsed": false
   },
   "source": [
    "To apply the BoW conpcet, I will use the sklearns CountVectorizer method that does the following:"
   ]
  },
  {
   "cell_type": "markdown",
   "metadata": {
    "collapsed": false
   },
   "source": [
    "1. It tokenizes the string(separates the string into individual words) and gives an integer ID to each token.\n",
    "2. It counts the occurrence of each of those tokens.\n",
    "3. It automatically converts all tokenized words to their lower case form so that it does not treat words like ‘He’ and ‘he’ differently.\n",
    "4. It also ignores all punctuation so that words followed by a punctuation mark (for example: ‘hello!’) are not treated differently than the same words not prefixed or suffixed by a punctuation mark (for example: ‘hello’).\n",
    "5. The third parameter to take note of is the stop_words parameter. Stop words refer to the most commonly used words in a language. They include words like 'am', 'an', 'and', 'the' etc. By setting this parameter value to english, CountVectorizer will automatically ignore all words(from input text) that are found in the built in list of english stop words in scikit-learn."
   ]
  },
  {
   "cell_type": "markdown",
   "metadata": {
    "collapsed": false
   },
   "source": [
    "##### Splitting Dataset in Training and Testing Sets"
   ]
  },
  {
   "cell_type": "markdown",
   "metadata": {
    "collapsed": false
   },
   "source": [
    "I want to split data so it has the following structure:\n",
    "1. X_train is my training data for the 'text' column.\n",
    "2. y_train is my training data for the 'label' column.\n",
    "3. X_test is my testing data for the 'text' column.\n",
    "4. y_test is my testing data for the 'label' column.\n",
    "\n",
    "Note: I will print out the number of rows I have in each training and testing data set."
   ]
  },
  {
   "cell_type": "code",
   "execution_count": 5,
   "metadata": {
    "collapsed": false
   },
   "outputs": [
    {
     "name": "stdout",
     "output_type": "stream",
     "text": [
      "Number of rows in the total data set 5728\n",
      "Number of rows in the training set 4296\n",
      "Number of rows in the testing set 1432\n"
     ]
    }
   ],
   "source": [
    "# splitting my data into training and testing sets\n",
    "from sklearn.model_selection import train_test_split\n",
    "\n",
    "x_train,x_test,y_train,y_test = train_test_split(df['text'],df['spam'], random_state = 42)\n",
    "\n",
    "print('Number of rows in the total data set {}'.format(df.shape[0]))\n",
    "\n",
    "print('Number of rows in the training set {}'.format(x_train.shape[0]))\n",
    "\n",
    "print('Number of rows in the testing set {}'.format(x_test.shape[0]))"
   ]
  },
  {
   "cell_type": "markdown",
   "metadata": {
    "collapsed": false
   },
   "source": [
    "##### Applying BoW to Process the Dataset"
   ]
  },
  {
   "cell_type": "markdown",
   "metadata": {
    "collapsed": false
   },
   "source": [
    "After splitting the data set into training and testing sets, I will use the CountVectorizer() to \n",
    "build a matrix dispalying all frecuencies for emails words by following these steps:\n",
    "\n",
    "1. I will fit (x_train), the training data, into the CountVectorizer() and return the resulted matrix.\n",
    "\n",
    "2. I will transfom the (x_test), the testing data, to return the matrix.\n",
    "\n",
    "Note : X_train is the training data for the \"Text\" column in the dataset, and I will use it to train my model.\n",
    "X_test is the testing data for also the same column \"Text\", and I will use it (after beign transformed into a matrix) to make predictions on. Later, I will compare the results of these predictions with Y_test , which corresponds to the \"Spam\" classifcation column. \n"
   ]
  },
  {
   "cell_type": "code",
   "execution_count": 6,
   "metadata": {
    "collapsed": false
   },
   "outputs": [
   ],
   "source": [
    "from sklearn.feature_extraction.text import CountVectorizer\n",
    "\n",
    "# preparing the CountVectoizer\n",
    "count_vector = CountVectorizer()\n",
    "\n",
    "# fitting and transforming the x_train into the matrix model\n",
    "training_data = count_vector.fit_transform(x_train)\n",
    "\n",
    "# transforming the testing_data to a matrix \n",
    "testing_data = count_vector.transform(x_test)"
   ]
  },
  {
   "cell_type": "markdown",
   "metadata": {
    "collapsed": false
   },
   "source": [
    "##### Naive Bayes Implementation with Sci-Kit Learn"
   ]
  },
  {
   "cell_type": "markdown",
   "metadata": {
    "collapsed": false
   },
   "source": [
    "I will be use the multinomial Naive Bayes implementation. This classifier is used for classificying data with discrete features (such as in my project case, word counts for text classification). This model takes the count of words as input. While the normal,Gaussian,distribuation is used in the case of continuous data as it assumes that the input data has a noraml, Gaussian, distribuation.  "
   ]
  },
  {
   "cell_type": "code",
   "execution_count": 32,
   "metadata": {
    "collapsed": false
   },
   "outputs": [
   ],
   "source": [
    "from sklearn.naive_bayes import MultinomialNB\n",
    "\n",
    "# preparing MultinomiaNB model \n",
    "n_bayes = MultinomialNB()\n",
    "# fitting the previous trained data with y_train into the model\n",
    "n_bayes.fit(training_data,y_train)\n",
    "end = time.time()"
   ]
  },
  {
   "cell_type": "code",
   "execution_count": 8,
   "metadata": {
    "collapsed": false,
    "scrolled": true
   },
   "outputs": [
   ],
   "source": [
    "# making predictions using the previous prepared testing_data\n",
    "predictions_nbayes = n_bayes.predict(testing_data)"
   ]
  },
  {
   "cell_type": "markdown",
   "metadata": {
    "collapsed": false
   },
   "source": [
    "##### Support Vector Machine Implementation with Sci-Kit Learn"
   ]
  },
  {
   "cell_type": "code",
   "execution_count": 9,
   "metadata": {
    "collapsed": false
   },
   "outputs": [
    {
     "data": {
      "text/plain": [
       "SVC(C=1.0, break_ties=False, cache_size=200, class_weight=None, coef0=0.0,\n",
       "    decision_function_shape='ovr', degree=3, gamma='scale', kernel='rbf',\n",
       "    max_iter=-1, probability=False, random_state=None, shrinking=True,\n",
       "    tol=0.001, verbose=False)"
      ]
     },
     "execution_count": 9,
     "metadata": {
     },
     "output_type": "execute_result"
    }
   ],
   "source": [
    "from sklearn.svm import SVC\n",
    "\n",
    "# preparing SVM model\n",
    "svm_model = SVC()\n",
    "# fitting the previous trained data with y_train into the model\n",
    "svm_model.fit(training_data, y_train)"
   ]
  },
  {
   "cell_type": "code",
   "execution_count": 10,
   "metadata": {
    "collapsed": false
   },
   "outputs": [
   ],
   "source": [
    "# making predictions using the previous prepared testing_data\n",
    "predictions_svm = svm_model.predict(testing_data)"
   ]
  },
  {
   "cell_type": "markdown",
   "metadata": {
    "collapsed": false
   },
   "source": [
    "##### Random Forest Implementation with Sci-Kit Learn"
   ]
  },
  {
   "cell_type": "code",
   "execution_count": 27,
   "metadata": {
    "collapsed": false
   },
   "outputs": [
    {
     "data": {
      "text/plain": [
       "RandomForestClassifier(bootstrap=True, ccp_alpha=0.0, class_weight=None,\n",
       "                       criterion='gini', max_depth=None, max_features='auto',\n",
       "                       max_leaf_nodes=None, max_samples=None,\n",
       "                       min_impurity_decrease=0.0, min_impurity_split=None,\n",
       "                       min_samples_leaf=1, min_samples_split=2,\n",
       "                       min_weight_fraction_leaf=0.0, n_estimators=100,\n",
       "                       n_jobs=None, oob_score=False, random_state=42, verbose=0,\n",
       "                       warm_start=False)"
      ]
     },
     "execution_count": 27,
     "metadata": {
     },
     "output_type": "execute_result"
    }
   ],
   "source": [
    "# importing the Random Forest Model\n",
    "from sklearn.ensemble import RandomForestClassifier\n",
    "# preparing the random forest model\n",
    "random_forest = RandomForestClassifier(n_estimators = 100, random_state = 42)\n",
    "# fitting the random forest model\n",
    "random_forest.fit(training_data,y_train)"
   ]
  },
  {
   "cell_type": "code",
   "execution_count": 28,
   "metadata": {
    "collapsed": false
   },
   "outputs": [
   ],
   "source": [
    "# making predictions using the previous prepared testing_data\n",
    "predictions_rf = random_forest.predict(testing_data)"
   ]
  },
  {
   "cell_type": "markdown",
   "metadata": {
    "collapsed": false
   },
   "source": [
    "##### Models evaluation"
   ]
  },
  {
   "cell_type": "markdown",
   "metadata": {
    "collapsed": false
   },
   "source": [
    "After fitting my model and making predictions, I need know how are my two models are preforming. \n",
    "Therefore, I will make some tests in my trained model to find the accuracys score, precision and sensitivity:\n",
    "\n",
    "1. Accuracy Score: it measures how often the clasifier model is making correct predictions on the data set. It's calculated as the number of correct predictions divided by the total number of predictions (it's the number of the test data points).\n",
    "\n",
    "2. Precision : it calculates the proprtion of emails that were classified as spam by us, actually were spam. \n",
    "\n",
    "Precision = True Positives (words classfied as spam , and which are actually spam) / ( True Positives  + False Positives ) (all words classified as spam, whether they were classfied correctly or uncorrectly). \n",
    "\n",
    "3. Sensitivity (Recall) : it finds the proportion of emails that are actually were spam classified by us as spam. \n",
    "\n",
    "Sensitivity = True Positives (words classfied as spam , and which are actually spam) / (True Positives + False Negatives)(all words that are actually spam). \n",
    "\n",
    "4. F1 : is a measure that used to find the best balance between precision and sensitivity scores and in the case of high number of large negatives.\n"
   ]
  },
  {
   "cell_type": "markdown",
   "metadata": {
    "collapsed": false
   },
   "source": [
    "##### Evaluation of Naive Bayes Algorithim"
   ]
  },
  {
   "cell_type": "code",
   "execution_count": 11,
   "metadata": {
    "collapsed": false
   },
   "outputs": [
    {
     "name": "stdout",
     "output_type": "stream",
     "text": [
      "Accuracy score is: 0.9874301675977654\n",
      "Precision score is: 0.9782016348773842\n",
      "Sensitivity score is: 0.9728997289972899\n",
      "F1 Score is: 0.9755434782608696\n"
     ]
    }
   ],
   "source": [
    "from sklearn.metrics import accuracy_score, precision_score, recall_score, f1_score\n",
    "\n",
    "print(\"Accuracy score is:\",format(accuracy_score(y_test,predictions_nbayes)))\n",
    "\n",
    "print(\"Precision score is:\",format(precision_score(y_test,predictions_nbayes)))\n",
    "\n",
    "print(\"Sensitivity score is:\",format(recall_score(y_test,predictions_nbayes)))\n",
    "\n",
    "print(\"F1 Score is:\",format(f1_score(y_test,predictions_nbayes)))"
   ]
  },
  {
   "cell_type": "markdown",
   "metadata": {
    "collapsed": false
   },
   "source": [
    "##### Conclusion "
   ]
  },
  {
   "cell_type": "markdown",
   "metadata": {
    "collapsed": false
   },
   "source": [
    "Naive Bayes algorithim is performing very well on all the four evaluations matrix. "
   ]
  },
  {
   "cell_type": "markdown",
   "metadata": {
    "collapsed": false
   },
   "source": [
    "##### Evaluation of Support Vector Machine Alogrithim"
   ]
  },
  {
   "cell_type": "code",
   "execution_count": 12,
   "metadata": {
    "collapsed": false
   },
   "outputs": [
    {
     "name": "stdout",
     "output_type": "stream",
     "text": [
      "Accuracy score is: 0.9392458100558659\n",
      "Precision score is: 0.9862068965517241\n",
      "Sensitivity score is: 0.7750677506775068\n",
      "F1 Score is: 0.8679817905918058\n"
     ]
    }
   ],
   "source": [
    "print(\"Accuracy score is:\",format(accuracy_score(y_test,predictions_svm)))\n",
    "\n",
    "print(\"Precision score is:\",format(precision_score(y_test,predictions_svm)))\n",
    "\n",
    "print(\"Sensitivity score is:\",format(recall_score(y_test,predictions_svm)))\n",
    "\n",
    "print(\"F1 Score is:\",format(f1_score(y_test,predictions_svm)))"
   ]
  },
  {
   "cell_type": "markdown",
   "metadata": {
    "collapsed": false
   },
   "source": [
    "SVM algorithim is performing somehow good, but not out performing like Naive Bayes. I will use GridSearchCV library to find the optiomal model."
   ]
  },
  {
   "cell_type": "code",
   "execution_count": 13,
   "metadata": {
    "collapsed": false
   },
   "outputs": [
    {
     "data": {
      "text/plain": [
       "{'C': 10, 'kernel': 'linear'}"
      ]
     },
     "execution_count": 13,
     "metadata": {
     },
     "output_type": "execute_result"
    }
   ],
   "source": [
    "# importing GridSearchCv library\n",
    "from sklearn.model_selection import GridSearchCV\n",
    "\n",
    "# paramters to find its values that would make SVM perform better\n",
    "parameters = {'kernel':('linear', 'rbf'), 'C':[1, 10]}\n",
    "# bulding SVC model\n",
    "svr = SVC()\n",
    "clf = GridSearchCV(svr, parameters)\n",
    "# fitting data\n",
    "clf.fit(training_data, y_train)\n",
    "# displaying the best parameters values \n",
    "clf.best_params_"
   ]
  },
  {
   "cell_type": "code",
   "execution_count": 14,
   "metadata": {
    "collapsed": false
   },
   "outputs": [
   ],
   "source": [
    "# re-bulding SVM model using the found paramters\n",
    "svm_model = SVC(C = 10, kernel = \"linear\")\n",
    "# fitting the previous trained data with y_train into the model\n",
    "svm_model.fit(training_data, y_train)\n",
    "# making predictions\n",
    "predictions_svm = svm_model.predict(testing_data)"
   ]
  },
  {
   "cell_type": "code",
   "execution_count": 15,
   "metadata": {
    "collapsed": false
   },
   "outputs": [
    {
     "name": "stdout",
     "output_type": "stream",
     "text": [
      "Accuracy score is: 0.9853351955307262\n",
      "Precision score is: 0.9860335195530726\n",
      "Sensitivity score is: 0.9566395663956639\n",
      "F1 Score is: 0.9711141678129297\n"
     ]
    }
   ],
   "source": [
    "print(\"Accuracy score is:\",format(accuracy_score(y_test,predictions_svm)))\n",
    "\n",
    "print(\"Precision score is:\",format(precision_score(y_test,predictions_svm)))\n",
    "\n",
    "print(\"Sensitivity score is:\",format(recall_score(y_test,predictions_svm)))\n",
    "\n",
    "print(\"F1 Score is:\",format(f1_score(y_test,predictions_svm)))"
   ]
  },
  {
   "cell_type": "markdown",
   "metadata": {
    "collapsed": false
   },
   "source": [
    "##### Conclusion \n",
    "\n",
    "After finding the best paramters for SVM, the model performance has imporved and become nearly the same as Naive Bayes."
   ]
  },
  {
   "cell_type": "markdown",
   "metadata": {
    "collapsed": false
   },
   "source": [
    "##### Evaluation of Random Forest Alogrithim"
   ]
  },
  {
   "cell_type": "code",
   "execution_count": 29,
   "metadata": {
    "collapsed": false
   },
   "outputs": [
    {
     "name": "stdout",
     "output_type": "stream",
     "text": [
      "Accuracy score is: 0.9581005586592178\n",
      "Precision score is: 1.0\n",
      "Sensitivity score is: 0.8373983739837398\n",
      "F1 Score is: 0.911504424778761\n"
     ]
    }
   ],
   "source": [
    "print(\"Accuracy score is:\",format(accuracy_score(y_test,predictions_rf)))\n",
    "\n",
    "print(\"Precision score is:\",format(precision_score(y_test,predictions_rf)))\n",
    "\n",
    "print(\"Sensitivity score is:\",format(recall_score(y_test,predictions_rf)))\n",
    "\n",
    "print(\"F1 Score is:\",format(f1_score(y_test,predictions_rf)))"
   ]
  },
  {
   "cell_type": "markdown",
   "metadata": {
    "collapsed": false
   },
   "source": [
    "##### Conclusion \n",
    "\n",
    "The Random Forest is performing well;however is not as good as the previous two models. "
   ]
  },
  {
   "cell_type": "markdown",
   "metadata": {
    "collapsed": false
   },
   "source": [
    "##### Final Conclusion"
   ]
  },
  {
   "cell_type": "markdown",
   "metadata": {
    "collapsed": false
   },
   "source": [
    "After applying the three previous models and evaluating them, I can say that Naive Bayes is the best performing then come SVM and finally Random Forest in detecting emails with spam. "
   ]
  },
  {
   "cell_type": "markdown",
   "metadata": {
    "collapsed": false
   },
   "source": [
    "##### Refrecnes \n",
    "\n",
    "https://towardsdatascience.com/naive-bayes-intuition-and-implementation-ac328f9c9718\n",
    "\n",
    "https://en.wikipedia.org/wiki/Naive_Bayes_classifiers\n",
    "\n",
    "http://theprofessionalspoint.blogspot.com/2019/03/advantages-and-disadvantages-of-naive.html\n",
    "\n",
    "https://towardsdatascience.com/accuracy-precision-recall-or-f1-331fb37c5cb9\n",
    "\n",
    "https://medium.com/machine-learning-101/chapter-2-svm-support-vector-machine-theory-f0812effc72https://medium.com/machine-learning-101/chapter-2-svm-support-vector-machine-theory-f0812effc72\n",
    "\n",
    "https://towardsdatascience.com/support-vector-machine-introduction-to-machine-learning-algorithms-934a444fca47\n",
    "\n",
    "https://medium.com/@dhiraj8899/top-4-advantages-and-disadvantages-of-support-vector-machine-or-svm-a3c06a2b107\n",
    "\n",
    "https://towardsdatascience.com/an-implementation-and-explanation-of-the-random-forest-in-python-77bf308a9b76\n",
    "\n",
    "http://theprofessionalspoint.blogspot.com/2019/02/advantages-and-disadvantages-of-random.html\n"
   ]
  }
 ],
 "metadata": {
  "kernelspec": {
   "display_name": "Python 3 (system-wide)",
   "language": "python",
   "metadata": {
    "cocalc": {
     "description": "Python 3 programming language",
     "priority": 100,
     "url": "https://www.python.org/"
    }
   },
   "name": "python3"
  },
  "language_info": {
   "codemirror_mode": {
    "name": "ipython",
    "version": 3
   },
   "file_extension": ".py",
   "mimetype": "text/x-python",
   "name": "python",
   "nbconvert_exporter": "python",
   "pygments_lexer": "ipython3",
   "version": "3.6.9"
  }
 },
 "nbformat": 4,
 "nbformat_minor": 0
}